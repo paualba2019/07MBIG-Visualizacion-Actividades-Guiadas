{
  "nbformat": 4,
  "nbformat_minor": 0,
  "metadata": {
    "colab": {
      "name": "AG3 - Pablo Garcia - Visualizacion.ipynb",
      "provenance": [],
      "include_colab_link": true
    },
    "kernelspec": {
      "name": "python3",
      "display_name": "Python 3"
    }
  },
  "cells": [
    {
      "cell_type": "markdown",
      "metadata": {
        "id": "view-in-github",
        "colab_type": "text"
      },
      "source": [
        "<a href=\"https://colab.research.google.com/github/paualba2019/07MBIG-Visualizacion-Actividades-Guiadas/blob/master/AG3_Pablo_Garcia_Visualizacion.ipynb\" target=\"_parent\"><img src=\"https://colab.research.google.com/assets/colab-badge.svg\" alt=\"Open In Colab\"/></a>"
      ]
    },
    {
      "cell_type": "markdown",
      "metadata": {
        "id": "WPWrsXdyV7AN",
        "colab_type": "text"
      },
      "source": [
        "###**AG3** - Python y Javascript"
      ]
    },
    {
      "cell_type": "code",
      "metadata": {
        "id": "pY0oGrKjTqrT",
        "colab_type": "code",
        "colab": {}
      },
      "source": [
        ""
      ],
      "execution_count": 0,
      "outputs": []
    }
  ]
}